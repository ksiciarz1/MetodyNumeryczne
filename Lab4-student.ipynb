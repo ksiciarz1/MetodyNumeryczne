{
 "cells": [
  {
   "cell_type": "markdown",
   "id": "numeric-california",
   "metadata": {},
   "source": [
    "# <center> Elementy numerycznej algebry liniowej </center>"
   ]
  },
  {
   "cell_type": "markdown",
   "id": "4a981f63",
   "metadata": {},
   "source": [
    "Rozwiązywanie układów równań liniowych jest jednym z podstawowych problemów metod numerycznych. Układy równań liniowych występują w wielu dziedzinach nauki i inżynierii. Stosuje się też w uczeniu maszynowym np. podczas regresji z błędem średniokwadratowym. \n",
    "\n",
    "\n",
    "Istnieje kilka metod rozwiązywania układów równań. Na dzisiejszych zajęciach zajmiemy się:\n",
    "* eliminacją Gaussa bez oraz z wyborem elementu głównego,\n",
    "* metodami iteracyjnymi.\n",
    "\n",
    "Problem rozwiązywania układu równań liniowych będzie nam towarzyszły do końca zajęć z tego przedmiotu."
   ]
  },
  {
   "cell_type": "markdown",
   "id": "56182a3b",
   "metadata": {},
   "source": [
    "## Normy i wskaźniki uwarunkowania"
   ]
  },
  {
   "cell_type": "markdown",
   "id": "38078700",
   "metadata": {},
   "source": [
    "Wrażliwość układu (zmiana rozwiązania) na niewielkie zaburzenia wektora `b` zależy od macierzy `A` i ocenia się ja za pomocą tzw. współczynnika lub [wskaźnika uwarunkowania macierzy](https://pl.wikipedia.org/wiki/Wskaźnik_uwarunkowania) (ang. *condition number*). Im wyższa wartość tego wskaźnika. tym macierz jest gorzej uwarunkowana. Wskaźnik uwarunkowania to iloczyn normy macierzy z normą jej odwrotności.\n",
    "\n",
    "$$cond(A)=|A|_{p}\\cdot|A^{-1}|_{p}$$\n",
    "gdzie *p* oznacza jedną z norm macierzy."
   ]
  },
  {
   "cell_type": "code",
   "execution_count": null,
   "id": "sudden-category",
   "metadata": {},
   "outputs": [],
   "source": [
    "import numpy as np\n",
    "import scipy\n",
    "import matplotlib.pyplot as plt"
   ]
  },
  {
   "cell_type": "markdown",
   "id": "acknowledged-howard",
   "metadata": {},
   "source": [
    "***Zadanie 1.***\n",
    "\n",
    "Porównaj normy 1,2, $\\infty$ następujących macierzy:\n",
    "* [Hilberta](https://pl.wikipedia.org/wiki/Macierz_Hilberta): o wymiarach 5x5 i 15x15\n",
    "* [Vandermonde'a](https://pl.wikipedia.org/wiki/Macierz_Vandermonde’a): o wymiarach 5x5 i 15x15\n",
    "* losowej o wartościach z przedziału [0,1]:  o wymiarach 5x5 i 15x15\n",
    "* $P=\\left[\\begin{array}{cccc}4 & 1 & -1 & 0 \\\\ 1 & 3 & -1 & 0 \\\\ -1 & -1 & 5 & 2 \\\\ 0 & 0 & 2 & 4\\end{array}\\right]$\n",
    "\n",
    "Czy wśród powyższych macierzy jest macierz [diagonalnie dominująca](https://pl.wikipedia.org/wiki/Macierz_przekątniowo_dominująca)?\n"
   ]
  },
  {
   "cell_type": "code",
   "execution_count": null,
   "id": "d7165eb2",
   "metadata": {
    "scrolled": true
   },
   "outputs": [],
   "source": []
  },
  {
   "cell_type": "markdown",
   "id": "global-trauma",
   "metadata": {},
   "source": [
    "*Wskazówka: Do wyznaczenia norm możesz wykorzystać funkcję `numpy.linalg.norm`*"
   ]
  },
  {
   "cell_type": "markdown",
   "id": "posted-novel",
   "metadata": {},
   "source": [
    "***Zadanie 2.***\n",
    "\n",
    "Oblicz wskaźniki uwarunkowania macierzy z poprzedniego zadania.\n",
    "\n",
    "*Wskazówka: Możesz wykorzystać funkcję `numpy.linalg.cond`.*"
   ]
  },
  {
   "cell_type": "code",
   "execution_count": null,
   "id": "74bf9063",
   "metadata": {},
   "outputs": [],
   "source": [
    "# zrobione wyżej"
   ]
  },
  {
   "cell_type": "markdown",
   "id": "bdc325a4",
   "metadata": {},
   "source": [
    "## Rozwiązywanie układów równań metodą eliminacji Gaussa"
   ]
  },
  {
   "cell_type": "markdown",
   "id": "61c219cd",
   "metadata": {},
   "source": [
    "***Zadanie 3.***\n",
    "\n",
    "Jedną z metod rozwiązywania układów równań liniowych jest metoda eliminacji Gaussa. Metoda ta występuje w kilku odmianach. Poza podstawowym wariantem, możliwe jest zastosowanie metody z wyborem elementu głownego (tzw. *pivoting*). \n",
    "\n",
    "Celem tego zadania jest porównanie błędów rozwiązania otrzymanego z tych dwóch wariantów eliminacji Gaussa. Poniżej znajdują się implementacje obu tych metod. Każda z funkcji przyjmuje macierz `A` oraz wektor prawej strony równania `b`.\n",
    "\n",
    "Samo polecenie znajduje się poniżej."
   ]
  },
  {
   "cell_type": "code",
   "execution_count": null,
   "id": "13751725",
   "metadata": {},
   "outputs": [],
   "source": [
    "def gauss_pivot(A, b):\n",
    "    A=A.copy()\n",
    "    b=b.copy()\n",
    "    n = len(b)\n",
    "    for k in range(n-1):\n",
    "        ind_max = k\n",
    "        for j in range(k+1, n):\n",
    "            if abs(A[j,k]) > abs(A[ind_max,k]):\n",
    "                ind_max = j\n",
    "        if ind_max > k:\n",
    "            tmp = A[ind_max,k:n].copy()\n",
    "            A[ind_max,k:n] = A[k,k:n]\n",
    "            A[k,k:n] = tmp\n",
    "            tmp = b[ind_max].copy()\n",
    "            b[ind_max] = b[k]\n",
    "            b[k] = tmp\n",
    "        akk = A[k,k]\n",
    "        l = A[k+1:n,k] / akk\n",
    "        for i in range(k+1, n):\n",
    "            A[i,k] = 0\n",
    "            A[i,k+1:n] = A[i,k+1:n] - l[i-k-1] * A[k,k+1:n]\n",
    "            b[i] = b[i] - l[i-k-1] * b[k]\n",
    "    x = np.zeros(n)\n",
    "    x[n-1] = b[n-1]/A[n-1,n-1]\n",
    "    for k in range(n-2, -1, -1):\n",
    "        x[k] = (b[k] - np.dot(A[k,k+1:n], x[k+1:n])) / A[k,k]\n",
    "    return x"
   ]
  },
  {
   "cell_type": "code",
   "execution_count": null,
   "id": "24ea0c35",
   "metadata": {},
   "outputs": [],
   "source": [
    "def gauss(A, b):\n",
    "    A=A.copy()\n",
    "    b=b.copy()\n",
    "    n = len(b)\n",
    "    for k in range(n-1):\n",
    "        akk = A[k,k]\n",
    "        l = A[k+1:n,k] / akk\n",
    "        for i in range(k+1, n):\n",
    "            A[i,k] = 0\n",
    "            A[i,k+1:n] = A[i,k+1:n] - l[i-k-1] * A[k,k+1:n]\n",
    "            b[i] = b[i] - l[i-k-1] * b[k]\n",
    "    x = np.zeros(n)\n",
    "    x[n-1] = b[n-1] / A[n-1,n-1]\n",
    "    for k in range(n-2, -1, -1):\n",
    "        x[k] = (b[k] - np.dot(A[k,k+1:n], x[k+1:n])) / A[k,k]\n",
    "    return x"
   ]
  },
  {
   "cell_type": "markdown",
   "id": "5ff66813",
   "metadata": {},
   "source": [
    "Stwórz macierze wartości losowych `A` o wymiarach 10x10 oraz wektor `b` o odpowiednich wymiarach. \n",
    "Chcemy rozwiązać układ równań `Ax=b` metodami eliminacji Gaussa bez oraz z wyborem elementu głównego, a następnie porównać dokładność wyników. Metoda z wyborem elementu głównego powinna dawać mniejszy błąd w przypadku dużych wartości znajdujących się na przekątnej. Sprawdź czy to prawda powtarzając obliczenia z  macierzami `A` zawierającym na pierwszym elemencie przekątnej coraz to mniejsze wartości (tak aby wzrosło znaczenie dalszych elementów na przękątnej i tym samym uaktywnił się wybór innego niż pierwszy elementu głównego).\n",
    "\n",
    "Wskazówka:Do porównania możesz wykorzystać residuum. Jeżeli `x` jest rozwiązaniem układu to `Ax` powinno być równe `b`. Residuum to różnica pomiędzy `b` oraz `Ax`: `res=|b-Ax|`. Możesz porównać zawartości poszczególnych elementów lub obliczyć jakąś normę z otrzymanego wektora."
   ]
  },
  {
   "cell_type": "code",
   "execution_count": null,
   "id": "de122a7f",
   "metadata": {},
   "outputs": [],
   "source": []
  },
  {
   "cell_type": "markdown",
   "id": "6205d9cd",
   "metadata": {},
   "source": [
    "## Metody iteracyjne"
   ]
  },
  {
   "cell_type": "markdown",
   "id": "70a7dd5f",
   "metadata": {},
   "source": [
    "Innym sposobem na rozwiązanie układu równań liniowych jest wykorzystanie metod iteracyjnych, które generują ciągi przybliżeń wektora stanowiącego rozwiązanie układu. Państwa zadaniem będzie implementacja i porównanie zbieżności trzech najpopularniejszych metod iteracyjnego rozwiązywania układów równań liniowych"
   ]
  },
  {
   "cell_type": "markdown",
   "id": "254b4846",
   "metadata": {},
   "source": [
    "***Zadanie 4.***\n",
    "\n",
    "Porównanie zbieżności metod Jacobiego, Gaussa-Seidla i Younga (SOR).\n",
    "* Zaimplementuj solvery rozwiązujące układy równań metodami Jacobiego, Gaussa-Seidela  i Younga (SOR). Każda funkcja powinna przyjmować macierz A i wektor prawej strony b. Dla uproszczenia, dopuszczalne jest wykorzystanie  inv dla obliczenia macierzy odwrotnej do macierzy trójkątnej (w metodzie G-S i Younga).\n",
    "* Porównaj zbieżność ciągów iteracyjnych otrzymanych 3 metodami dla 3 układów równań (3 macierzy). W metodzie Younga możesz przyjąć np. $ω = 1.2$.\n",
    "* Dla macierzy, dla której metoda Younga okazała się zbieżna, porównaj zbieżność ciągów iteracyjnych otrzymanych dla wartości $0 < ω < 3$ (dodatkowe).\n",
    "* Dla jakiej wartości parametru $ω$ zbieżność ciągu iteracyjnego jest najlepsza? Wynik otrzymany na podstawie obserwacji ciągu odchyleń od rozwiązania dokładnego należy porównać z wnioskiem płynącym z wykresu zależności promienia spektralnego macierzy iteracji w zależności od parametru $ω$ (dodatkowe)."
   ]
  },
  {
   "cell_type": "code",
   "execution_count": null,
   "id": "0b96ab57",
   "metadata": {},
   "outputs": [],
   "source": []
  },
  {
   "cell_type": "markdown",
   "id": "5719a332",
   "metadata": {},
   "source": [
    "## Porównanie rozwiązania za pomocą metody `solve` oraz z użyciem odwrotności na przykładzie macierzy źle uwarunkowanej"
   ]
  },
  {
   "cell_type": "markdown",
   "id": "integral-blade",
   "metadata": {},
   "source": [
    "***Zadanie 5.***\n",
    "\n",
    "Dany jest układ równań $Hx=b$.\n",
    "* H jest macierzą Hilberta o wymiarach $n=5x5$ (I przypadek) i $n=15x15$ (II przypadek),\n",
    "* b jest wektorem o następujących elementach $b_i = 1/(n + i + 1)$ Uwaga: $i=1,\\dots,n$.\n",
    "\n",
    "Do rozwiązania układu wykorzystaj dwa algorytmy:\n",
    "1. Z odwracaniem macierzy współczynników H.\n",
    "2. Metodę `numpy.linalg.solve`.\n",
    "\n",
    "Porównaj błędy obu rozwiązań. Aby ocenić błąd możesz:\n",
    "* wyznaczyć wektor residuum otrzymanego rozwiązania,\n",
    "* rozwiązać układ równań z innym wektorem $b$. Załóż, że wektor rozwiązania ma wszystkie elementy (współrzędne) równe 1 ($u_i = 1, i = 1, 2, . . . , n$). Wtedy $b = Hu$. Układ rozwiążemy bez korzystania z wiedzy o postaci $u$. Dopiero wynik porównamy ze znanym nam $u$."
   ]
  },
  {
   "cell_type": "code",
   "execution_count": null,
   "id": "killing-cancer",
   "metadata": {},
   "outputs": [],
   "source": []
  },
  {
   "cell_type": "markdown",
   "id": "22ae3d15",
   "metadata": {},
   "source": [
    "**Zadanie domowe. Znaczenie wskaźnika uwarunkowania macierzy w szacowaniu błędu rozwiązania**\n",
    "\n",
    "\n",
    "Dana jest następująca macierz A współczynników układu dwóch równań liniowy:\n",
    "$$A=\\begin{bmatrix}10^5 & 9.9\\cdot10^4\\\\1.00001& 0.99\\end{bmatrix}$$\n",
    "\n",
    "Wektor prawej strony równania $Ax=b$ dla rozwiązania x = $[1, 1]^T$ możemy wyznaczyć z równości $b = Ax$.\n",
    "\n",
    "Należy:\n",
    "* obliczyć wskaźnik uwarunkowania macierzy $A$,\n",
    "* rozwiązać układ równań $Ax = b$ (nie korzystając z wiedzy o przyjętym rozwiązaniu dokładnym x) korzystając z funkcji `np.linalg.solve`,\n",
    "* ocenić błąd otrzymanego rozwiązania i porównać go z błędem szacowanym za pomocą wskaźnika uwarunkowania macierzy A,\n",
    "* przeprowadzić skalowanie tak, aby macierz $A$ była wyważona wierszami,\n",
    "* wyznaczyć nowe wartości wektora b tak, aby rozwiązanie dokładne się nie\n",
    "zmieniło,\n",
    "* obliczyć wskaźnik uwarunkowania macierzy skalowanej,\n",
    "* rozwiązać układ równań tą samą metodą jak poprzednio,\n",
    "* ocenić błąd otrzymanego rozwiązania i porównać go z błędem szacowanym za pomocą wskaźnika uwarunkowania skalowanej macierzy $A$.\n",
    "1. Czy błąd numeryczny rozwiązania w obu przypadkach jest tego samego rzędu?\n",
    "2. Które szacowanie błędu jest bardziej zbliżone do faktycznego błędu?"
   ]
  },
  {
   "cell_type": "code",
   "execution_count": null,
   "id": "5067fa3f",
   "metadata": {},
   "outputs": [],
   "source": []
  }
 ],
 "metadata": {
  "kernelspec": {
   "display_name": "Python 3 (ipykernel)",
   "language": "python",
   "name": "python3"
  },
  "language_info": {
   "codemirror_mode": {
    "name": "ipython",
    "version": 3
   },
   "file_extension": ".py",
   "mimetype": "text/x-python",
   "name": "python",
   "nbconvert_exporter": "python",
   "pygments_lexer": "ipython3",
   "version": "3.11.4"
  }
 },
 "nbformat": 4,
 "nbformat_minor": 5
}

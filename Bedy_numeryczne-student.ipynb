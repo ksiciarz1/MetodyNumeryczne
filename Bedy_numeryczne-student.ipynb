{
 "cells": [
  {
   "cell_type": "markdown",
   "id": "different-patrol",
   "metadata": {},
   "source": [
    "# Błędy numeryczne"
   ]
  },
  {
   "cell_type": "markdown",
   "id": "laughing-breeding",
   "metadata": {},
   "source": [
    "Zagadnienia:\n",
    "* Reprezentacja liczb w komputerze:\n",
    "    * Zapis stałoprzecinkowy,\n",
    "    * Zapis zmiennoprzecinkowy (standard IEEE 754),\n",
    "* Błędy numeryczne:\n",
    "    * Błąd względny i bezwzględny.\n",
    "    * Błąd zaokrąglenia (ang. *round-off error*).\n",
    "    * Błąd obcięcia (ang. *truncation error*).\n",
    "    * Błędy związane z przyjętym sposobem rozwiązywania."
   ]
  },
  {
   "cell_type": "markdown",
   "id": "rotary-frank",
   "metadata": {},
   "source": [
    "## Błąd względny i bezwzględny"
   ]
  },
  {
   "cell_type": "markdown",
   "id": "actual-representation",
   "metadata": {},
   "source": [
    "***Zadanie 1.***  \n",
    "Liczbę $\\textrm{e}$ możemy zdefiniować jako $\\sum\\limits_{n=0}^{\\infty} \\frac{1}{n!}$. Oblicz błąd względny i bezwzględny aproksymacji liczby $\\textrm{e}$ poprzez $\\textrm{e}^{*}$ w przypadku gdy:  \n",
    "* $\\textrm{e}_1^{*}=\\sum\\limits_{n=0}^{5} \\frac{1}{n!}$    \n",
    "\n",
    "* $\\textrm{e}_2^{*}=\\sum\\limits_{n=0}^{10} \\frac{1}{n!}$  \n",
    "\n",
    "* $\\textrm{e}_3^{*}=\\sum\\limits_{n=0}^{20} \\frac{1}{n!}$  "
   ]
  },
  {
   "cell_type": "code",
   "execution_count": 195,
   "id": "chinese-mathematics",
   "metadata": {},
   "outputs": [
    {
     "name": "stdout",
     "output_type": "stream",
     "text": [
      "e_1^* = 2.7166666666666663\n",
      "Błąd względny: 0.0005941848\n",
      "Błąd bezwzględny: 0.0016151618\n",
      "\n",
      "e_2^* = 2.7182818011463845\n",
      "Błąd względny: 0.0000000100\n",
      "Błąd bezwzględny: 0.0000000273\n",
      "\n",
      "e_3^* = 2.7182818284590455\n",
      "Błąd względny: 0.0000000000\n",
      "Błąd bezwzględny: 0.0000000000\n",
      "\n"
     ]
    }
   ],
   "source": [
    "import math\n",
    "\n",
    "# Funkcja obliczająca błąd względny\n",
    "def relative_error(exact, approx):\n",
    "    return abs((exact - approx) / exact)\n",
    "\n",
    "# Funkcja obliczająca błąd bezwzględny\n",
    "def absolute_error(exact, approx):\n",
    "    return abs(exact - approx)\n",
    "\n",
    "# Funkcja obliczająca wartość przybliżoną liczby e na podstawie sumy skończonego szeregu\n",
    "def approx_e(n):\n",
    "    return sum(1 / math.factorial(i) for i in range(n+1))\n",
    "\n",
    "# Wartość rzeczywista liczby e\n",
    "e_exact = math.e\n",
    "\n",
    "# Lista wartości przybliżonych\n",
    "e_approximations = [approx_e(5), approx_e(10), approx_e(20)]\n",
    "\n",
    "# Obliczenie błędów dla każdej wartości przybliżonej\n",
    "for i, e_approx in enumerate(e_approximations, start=1):\n",
    "    rel_err = relative_error(e_exact, e_approx)\n",
    "    abs_err = absolute_error(e_exact, e_approx)\n",
    "    print(f\"e_{i}^* =\", e_approx)\n",
    "    print(f\"Błąd względny: {rel_err:.10f}\")\n",
    "    print(f\"Błąd bezwzględny: {abs_err:.10f}\")\n",
    "    print()"
   ]
  },
  {
   "cell_type": "markdown",
   "id": "fiscal-momentum",
   "metadata": {},
   "source": [
    "## Zapis zmiennoprzecinkowy"
   ]
  },
  {
   "cell_type": "markdown",
   "id": "final-venezuela",
   "metadata": {},
   "source": [
    "**Uwaga**: Używane tu pojęcie **cecha** ma inne znaczenie, niż poznane być może w szkole – skrótowo: „część całkowita”. Dlatego poniżej dodawane jest inne określenie – „wykładnik”."
   ]
  },
  {
   "cell_type": "code",
   "execution_count": 196,
   "id": "painful-monitoring",
   "metadata": {},
   "outputs": [],
   "source": [
    "import numpy as np\n",
    "import matplotlib.pyplot as plt\n",
    "import sys"
   ]
  },
  {
   "cell_type": "code",
   "execution_count": 197,
   "id": "collectible-survivor",
   "metadata": {
    "scrolled": true
   },
   "outputs": [
    {
     "name": "stdout",
     "output_type": "stream",
     "text": [
      "Machine parameters for float64\n",
      "---------------------------------------------------------------\n",
      "precision =  15   resolution = 1.0000000000000001e-15\n",
      "machep =    -52   eps =        2.2204460492503131e-16\n",
      "negep =     -53   epsneg =     1.1102230246251565e-16\n",
      "minexp =  -1022   tiny =       2.2250738585072014e-308\n",
      "maxexp =   1024   max =        1.7976931348623157e+308\n",
      "nexp =       11   min =        -max\n",
      "smallest_normal = 2.2250738585072014e-308   smallest_subnormal = 4.9406564584124654e-324\n",
      "---------------------------------------------------------------\n",
      "\n"
     ]
    }
   ],
   "source": [
    "print(np.finfo(float))\n",
    "eps = np.finfo(float).eps"
   ]
  },
  {
   "cell_type": "markdown",
   "id": "registered-immigration",
   "metadata": {},
   "source": [
    "***Zadanie 2.***\n",
    "\n",
    "\n",
    "a) Wstaw dowolną wartość do liczby x, np. 0.1. Które liczby mają tę samą mantysę, a które tę samą cechę (wykładnik)? Sprawdź wypisując ich wartości w formacie hex.\n"
   ]
  },
  {
   "cell_type": "markdown",
   "id": "sapphire-tuesday",
   "metadata": {},
   "source": [
    "**Uwaga:** Do odczytania liczby w formacie szesnastkowym możesz wykorzystać funkcję:"
   ]
  },
  {
   "cell_type": "code",
   "execution_count": 198,
   "id": "concrete-webmaster",
   "metadata": {},
   "outputs": [
    {
     "data": {
      "text/plain": [
       "'0x1.4000000000000p+0'"
      ]
     },
     "execution_count": 198,
     "metadata": {},
     "output_type": "execute_result"
    }
   ],
   "source": [
    "1.25.hex()"
   ]
  },
  {
   "cell_type": "code",
   "execution_count": 199,
   "id": "96e3aec4",
   "metadata": {},
   "outputs": [
    {
     "data": {
      "text/plain": [
       "'0x1.3880000000000p+12'"
      ]
     },
     "execution_count": 199,
     "metadata": {},
     "output_type": "execute_result"
    }
   ],
   "source": [
    "5000.0.hex()"
   ]
  },
  {
   "cell_type": "markdown",
   "id": "constant-sphere",
   "metadata": {},
   "source": [
    "lub"
   ]
  },
  {
   "cell_type": "code",
   "execution_count": 200,
   "id": "humanitarian-somerset",
   "metadata": {},
   "outputs": [],
   "source": [
    "import struct\n",
    "def double_to_hex(f):\n",
    "    print(hex(struct.unpack('<Q', struct.pack('<d', f))[0]))"
   ]
  },
  {
   "cell_type": "code",
   "execution_count": 201,
   "id": "regular-possibility",
   "metadata": {
    "scrolled": true
   },
   "outputs": [
    {
     "name": "stdout",
     "output_type": "stream",
     "text": [
      "0x3ff4000000000000\n"
     ]
    }
   ],
   "source": [
    "double_to_hex(1.25)"
   ]
  },
  {
   "cell_type": "markdown",
   "id": "heated-session",
   "metadata": {},
   "source": [
    "Zamianę w drugą stronę można przeprowadzić za pomocą funkcji *int*"
   ]
  },
  {
   "cell_type": "code",
   "execution_count": 202,
   "id": "three-butler",
   "metadata": {},
   "outputs": [
    {
     "data": {
      "text/plain": [
       "1023"
      ]
     },
     "execution_count": 202,
     "metadata": {},
     "output_type": "execute_result"
    }
   ],
   "source": [
    "int('3ff', 16)"
   ]
  },
  {
   "cell_type": "code",
   "execution_count": 203,
   "id": "completed-vault",
   "metadata": {},
   "outputs": [
    {
     "name": "stdout",
     "output_type": "stream",
     "text": [
      "Liczba 0.1 w formacie hex: 0x1.999999999999ap-4\n",
      "Reprezentacja binarna liczby 0.1: 0011111110111001100110011001100110011001100110011001100110011010\n",
      "Exponent: 01111111011\n",
      "Mantysa: 1001100110011001100110011001100110011001100110011010\n",
      "Liczby o takiej samej mantysie jak 0.1: [450359962737049.6, 7205759403792794.0, 1.152921504606847e+17]\n",
      "Liczby o takim samym wykładniku jak 0.1: []\n"
     ]
    }
   ],
   "source": [
    "import struct\n",
    "\n",
    "def double_to_binary(f):\n",
    "    return bin(struct.unpack('<Q', struct.pack('<d', f))[0])[2:].zfill(64)\n",
    "\n",
    "def find_same_mantissa_exponent(x):\n",
    "    x_hex = x.hex()\n",
    "    x_binary = double_to_binary(x)\n",
    "    exponent = x_binary[1:12]\n",
    "    mantissa = x_binary[12:]\n",
    "    \n",
    "    print(f\"Liczba {x} w formacie hex: {x_hex}\")\n",
    "    print(f\"Reprezentacja binarna liczby {x}: {x_binary}\")\n",
    "    print(f\"Exponent: {exponent}\")\n",
    "    print(f\"Mantysa: {mantissa}\")\n",
    "\n",
    "    same_mantissa = []\n",
    "    same_exponent = []\n",
    "    \n",
    "    for i in range(2**10):\n",
    "        test_number = float.fromhex(x_hex[0] + hex(i)[2:].zfill(3) + x_hex[4:])\n",
    "        test_binary = double_to_binary(test_number)\n",
    "        test_exponent = test_binary[1:12]\n",
    "        test_mantissa = test_binary[12:]\n",
    "\n",
    "        if test_mantissa == mantissa:\n",
    "            same_mantissa.append(test_number)\n",
    "        if test_exponent == exponent:\n",
    "            same_exponent.append(test_number)\n",
    "    \n",
    "    print(f\"Liczby o takiej samej mantysie jak {x}: {same_mantissa}\")\n",
    "    print(f\"Liczby o takim samym wykładniku jak {x}: {same_exponent}\")\n",
    "\n",
    "# Przykładowe użycie\n",
    "x = 0.1\n",
    "find_same_mantissa_exponent(x)\n"
   ]
  },
  {
   "cell_type": "markdown",
   "id": "higher-router",
   "metadata": {},
   "source": [
    "\n",
    "\n",
    "b) Porównaj zapis liczb 0.1, 0.2 i 0.3 w formacie zmiennoprzecinkowym.\n",
    "\n",
    "* Czy można przewidzieć, czy suma 0.1 + 0.2 będzie reprezentowana dokładnie tak samo jak liczba 0.3?\n",
    "* Jaki będzie wynik porównania tej sumy z liczbą 0.3 i konsekwencje użycia warunku równościowego / nierównościowego w pętli?\n",
    "\n"
   ]
  },
  {
   "cell_type": "code",
   "execution_count": 204,
   "id": "limiting-paradise",
   "metadata": {},
   "outputs": [
    {
     "name": "stdout",
     "output_type": "stream",
     "text": [
      "0.1 + 0.2 = 0.30000000000000004\n",
      "0.3 = 0.3\n",
      "Czy 0.1 + 0.2 jest równa 0.3? False\n",
      "0.1 + 0.2 jest wystarczająco blisko 0.3\n"
     ]
    }
   ],
   "source": [
    "x = 0.1\n",
    "y = 0.2\n",
    "z = 0.3\n",
    "\n",
    "print(\"0.1 + 0.2 =\", x + y)\n",
    "print(\"0.3 =\", z)\n",
    "print(\"Czy 0.1 + 0.2 jest równa 0.3?\", x + y == z)\n",
    "\n",
    "epsilon = 1e-9  # tolerancja\n",
    "\n",
    "if abs(x + y - z) < epsilon:\n",
    "    print(\"0.1 + 0.2 jest wystarczająco blisko 0.3\")\n",
    "else:\n",
    "    print(\"0.1 + 0.2 nie jest wystarczająco blisko 0.3\")"
   ]
  },
  {
   "cell_type": "markdown",
   "id": "brutal-windows",
   "metadata": {},
   "source": [
    "c) Przyjmijmy, że „skrótowe” określenie *liczba dokładnie reprezentowana* oznacza liczbę, która jest reprezentowana w formacie zmiennoprzecinkowym dokładnie, tzn. bez konieczności zaokrąglania.\n",
    "* Ile jest liczb dokładnie reprezentowanych w przedziale $[1, 2)$?\n",
    "* Zaobserwuj (z pomocą formatu hex) jakie wartości mają bity w polu mantysy w przypadku liczby 1.0.\n",
    "* Jaką liczbę trzeba dodać do 1.0, aby tylko na najmłodszej pozycji pola mantysy pojawiło się 1?\n",
    "* Czy wyżej otrzymana suma jest najmniejszą liczbą dokładnie reprezentowana, spośród liczb większych od 1?\n",
    "* Jak przypuszczasz, jakie wartości będą miały poszczególne bity mantysy w przypadku największej liczby dokładnie reprezentowanej, której cecha (wykładnik) jest równy 0? Sprawdź, czy tak jest rzeczywiście – wpisując wartość tej liczby (jaka to jest wartość?).\n"
   ]
  },
  {
   "cell_type": "code",
   "execution_count": 205,
   "id": "operating-cotton",
   "metadata": {},
   "outputs": [
    {
     "name": "stdout",
     "output_type": "stream",
     "text": [
      "Liczba dokładnie reprezentowana w przedziale [1, 2): 4503599627370496\n",
      "Wartość bitów pola mantysy dla liczby 1.0: 0000000000000\n",
      "Suma 1.0 + 2^-52: 1.0000000000000002\n",
      "Największa liczba dokładnie reprezentowana, wykładnik=0: 1.0666666666666667\n"
     ]
    }
   ],
   "source": [
    "liczba_dokladnie_reprezentowana = 2**52\n",
    "print(\"Liczba dokładnie reprezentowana w przedziale [1, 2):\", liczba_dokladnie_reprezentowana)\n",
    "wartosc_mantysy_1 = float.hex(1.0).split('p')[0].split('.')[-1]\n",
    "print(\"Wartość bitów pola mantysy dla liczby 1.0:\", wartosc_mantysy_1)\n",
    "dodana_wartosc = 2**-52\n",
    "suma = 1.0 + dodana_wartosc\n",
    "print(\"Suma 1.0 + 2^-52:\", suma)\n",
    "najwieksza_mantysa_wykładnik_0 = '1.' + '1' * 52\n",
    "najwieksza_liczba = float.fromhex(najwieksza_mantysa_wykładnik_0 + 'p0')\n",
    "print(\"Największa liczba dokładnie reprezentowana, wykładnik=0:\", najwieksza_liczba)"
   ]
  },
  {
   "cell_type": "markdown",
   "id": "straight-institute",
   "metadata": {},
   "source": [
    "d) Oblicz długości przedziałów, do których należą wszystkie liczby mające cechę (wykładnik) równy: 0, 1, 2, 5, -1, -3.\n",
    "\n",
    "* Czy w każdym z tych przedziałów jest tyle samo liczb dokładnie reprezentowanych? Jeżeli nie, to ile w każdym z nich?\n",
    "* Jaka jest odległość między dwoma sąsiednimi liczbami dokładnie reprezentowanymi (odległość, czyli różnica ich wartości) w każdym z tych przedziałów?\n",
    "* Jaki jest maksymalny błąd bezwzględny zaokrąglenia w każdym z tych przedziałów?\n",
    "* Jaki jest maksymalny błąd względny zaokrąglenia w każdym z tych przedziałów?\n",
    "\n",
    "\n",
    "\n"
   ]
  },
  {
   "cell_type": "code",
   "execution_count": 206,
   "id": "confirmed-stream",
   "metadata": {},
   "outputs": [
    {
     "name": "stdout",
     "output_type": "stream",
     "text": [
      "Cecha 0:\n",
      "Długość przedziału: (1, 2)\n",
      "Liczba dokładnie reprezentowana w przedziale: 4503599627370496\n",
      "Odległość między dwoma sąsiednimi liczbami dokładnie reprezentowanymi: 2.220446049250313e-16\n",
      "Maksymalny błąd bezwzględny zaokrąglenia: 1.1102230246251565e-16\n",
      "Maksymalny błąd względny zaokrąglenia: 2.220446049250313e-16\n",
      "\n",
      "Cecha 1:\n",
      "Długość przedziału: (2, 4)\n",
      "Liczba dokładnie reprezentowana w przedziale: 9007199254740992\n",
      "Odległość między dwoma sąsiednimi liczbami dokładnie reprezentowanymi: 2.220446049250313e-16\n",
      "Maksymalny błąd bezwzględny zaokrąglenia: 1.1102230246251565e-16\n",
      "Maksymalny błąd względny zaokrąglenia: 1.1102230246251565e-16\n",
      "\n",
      "Cecha 2:\n",
      "Długość przedziału: (4, 8)\n",
      "Liczba dokładnie reprezentowana w przedziale: 18014398509481984\n",
      "Odległość między dwoma sąsiednimi liczbami dokładnie reprezentowanymi: 2.220446049250313e-16\n",
      "Maksymalny błąd bezwzględny zaokrąglenia: 1.1102230246251565e-16\n",
      "Maksymalny błąd względny zaokrąglenia: 5.551115123125783e-17\n",
      "\n",
      "Cecha 5:\n",
      "Długość przedziału: (32, 64)\n",
      "Liczba dokładnie reprezentowana w przedziale: 144115188075855872\n",
      "Odległość między dwoma sąsiednimi liczbami dokładnie reprezentowanymi: 2.220446049250313e-16\n",
      "Maksymalny błąd bezwzględny zaokrąglenia: 1.1102230246251565e-16\n",
      "Maksymalny błąd względny zaokrąglenia: 6.938893903907228e-18\n",
      "\n",
      "Cecha -1:\n",
      "Długość przedziału: (0.5, 1)\n",
      "Liczba dokładnie reprezentowana w przedziale: 2251799813685248\n",
      "Odległość między dwoma sąsiednimi liczbami dokładnie reprezentowanymi: 2.220446049250313e-16\n",
      "Maksymalny błąd bezwzględny zaokrąglenia: 1.1102230246251565e-16\n",
      "Maksymalny błąd względny zaokrąglenia: 4.440892098500626e-16\n",
      "\n",
      "Cecha -3:\n",
      "Długość przedziału: (0.125, 0.25)\n",
      "Liczba dokładnie reprezentowana w przedziale: 562949953421312\n",
      "Odległość między dwoma sąsiednimi liczbami dokładnie reprezentowanymi: 2.220446049250313e-16\n",
      "Maksymalny błąd bezwzględny zaokrąglenia: 1.1102230246251565e-16\n",
      "Maksymalny błąd względny zaokrąglenia: 1.7763568394002505e-15\n",
      "\n"
     ]
    }
   ],
   "source": [
    "import math\n",
    "\n",
    "# Funkcja do obliczania liczby dokładnie reprezentowanych w przedziale\n",
    "def liczba_dokladnie_reprezentowana(dolny_przedzial, gorny_przedzial):\n",
    "    return int((2**52) * (gorny_przedzial - dolny_przedzial))\n",
    "\n",
    "# Funkcja do obliczania odległości między dwoma sąsiednimi liczbami dokładnie reprezentowanymi\n",
    "def odleglosc_miedzy_liczbami():\n",
    "    return 2**-52\n",
    "\n",
    "# Funkcja do obliczania maksymalnego błędu bezwzględnego zaokrąglenia\n",
    "def maksymalny_blad_bezwzgledny():\n",
    "    return 2**-53\n",
    "\n",
    "# Funkcja do obliczania maksymalnego błędu względnego zaokrąglenia\n",
    "def maksymalny_blad_wzgledny(dolny_przedzial, gorny_przedzial):\n",
    "    return (2**-52) / dolny_przedzial\n",
    "\n",
    "# Obliczenia dla różnych cech (wykładników)\n",
    "cechy = [0, 1, 2, 5, -1, -3]\n",
    "for cecha in cechy:\n",
    "    dolny_przedzial = 2**cecha\n",
    "    gorny_przedzial = 2**(cecha + 1)\n",
    "    liczba_dokladnie_reprezentowana_w_przedziale = liczba_dokladnie_reprezentowana(dolny_przedzial, gorny_przedzial)\n",
    "    odleglosc_miedzy_liczbami_dokladnie_reprezentowanymi = odleglosc_miedzy_liczbami()\n",
    "    maksymalny_blad_bezwzgledny_zaokraglenia = maksymalny_blad_bezwzgledny()\n",
    "    maksymalny_blad_wzgledny_zaokraglenia = maksymalny_blad_wzgledny(dolny_przedzial, gorny_przedzial)\n",
    "\n",
    "    print(f\"Cecha {cecha}:\")\n",
    "    print(f\"Długość przedziału: ({dolny_przedzial}, {gorny_przedzial})\")\n",
    "    print(f\"Liczba dokładnie reprezentowana w przedziale: {liczba_dokladnie_reprezentowana_w_przedziale}\")\n",
    "    print(f\"Odległość między dwoma sąsiednimi liczbami dokładnie reprezentowanymi: {odleglosc_miedzy_liczbami_dokladnie_reprezentowanymi}\")\n",
    "    print(f\"Maksymalny błąd bezwzględny zaokrąglenia: {maksymalny_blad_bezwzgledny_zaokraglenia}\")\n",
    "    print(f\"Maksymalny błąd względny zaokrąglenia: {maksymalny_blad_wzgledny_zaokraglenia}\")\n",
    "    print()"
   ]
  },
  {
   "cell_type": "markdown",
   "id": "toxic-sixth",
   "metadata": {},
   "source": [
    "***Zadanie 3.***\n",
    "\n",
    "Spójrz na poniższe zjawiska, zastanów się nad ich przyczynami."
   ]
  },
  {
   "cell_type": "markdown",
   "id": "further-freedom",
   "metadata": {},
   "source": [
    "***Problem skali***"
   ]
  },
  {
   "cell_type": "markdown",
   "id": "removable-victory",
   "metadata": {},
   "source": [
    "Jaki wynika da poniższy kod:"
   ]
  },
  {
   "cell_type": "code",
   "execution_count": 207,
   "id": "adjusted-delivery",
   "metadata": {},
   "outputs": [
    {
     "name": "stdout",
     "output_type": "stream",
     "text": [
      "1.00000000000000000\n"
     ]
    }
   ],
   "source": [
    "a = 1.0\n",
    "b = 0.0000000000000000000000001\n",
    "c = a + b\n",
    "print(f'{c:.17f}')"
   ]
  },
  {
   "cell_type": "markdown",
   "id": "secret-raise",
   "metadata": {},
   "source": [
    "***Problem reprezentacji w zapisie binarnym*** "
   ]
  },
  {
   "cell_type": "code",
   "execution_count": 208,
   "id": "f6596f1a",
   "metadata": {},
   "outputs": [
    {
     "name": "stdout",
     "output_type": "stream",
     "text": [
      "False\n"
     ]
    }
   ],
   "source": [
    "if 0.1+0.2==0.3:\n",
    "    print(\"True\")\n",
    "else:\n",
    "    print(\"False\")"
   ]
  },
  {
   "cell_type": "code",
   "execution_count": 209,
   "id": "cross-ranch",
   "metadata": {},
   "outputs": [
    {
     "name": "stdout",
     "output_type": "stream",
     "text": [
      "9.999999999999980\n"
     ]
    }
   ],
   "source": [
    "suma = 0\n",
    "for i in range(0,100):\n",
    "    suma += 0.1\n",
    "print(f'{suma:.15f}')"
   ]
  },
  {
   "cell_type": "markdown",
   "id": "56086598",
   "metadata": {},
   "source": [
    "**Zadanie 4.**"
   ]
  },
  {
   "cell_type": "markdown",
   "id": "35804ff5",
   "metadata": {},
   "source": [
    "Niech:\n",
    "* $a=0.3$\n",
    "* $b=10^{-13}$\n",
    "* $c=a-b$\n",
    "* $d=a-c$\n",
    "\n",
    "Czy $b$ i $d$ są sobie równe w sensie analitycznym? Co z przypadkiem numerycznym? Zdefiniuj odpowiednie zmienne i porównaj wyniki. Porównaj szesnastkowe i dziesietne reprezentacje zmiennych `b` i `d`. Ile cyfr w reprezentacji `d` możemy uznać za wiarygodne?"
   ]
  },
  {
   "cell_type": "code",
   "execution_count": 210,
   "id": "47593036",
   "metadata": {},
   "outputs": [
    {
     "name": "stdout",
     "output_type": "stream",
     "text": [
      "Wartość zmiennej b: 1e-13\n",
      "Wartość zmiennej d: 0.5999999999999\n",
      "\n",
      "Reprezentacja szesnastkowa zmiennej b: 0x1.c25c268497682p-44\n",
      "Reprezentacja dziesiętna zmiennej b: 0.00000000000010000000\n",
      "Reprezentacja szesnastkowa zmiennej d: 0x1.3333333332faep-1\n",
      "Reprezentacja dziesiętna zmiennej d: 0.59999999999989994670\n"
     ]
    }
   ],
   "source": [
    "# Definicja zmiennych\n",
    "a = 0.3\n",
    "b = 10**-13\n",
    "c = a - b\n",
    "d = a + c\n",
    "\n",
    "# Wypisanie wartości zmiennych\n",
    "print(\"Wartość zmiennej b:\", b)\n",
    "print(\"Wartość zmiennej d:\", d)\n",
    "\n",
    "# Porównanie reprezentacji szesnastkowej i dziesiętnej\n",
    "print(\"\\nReprezentacja szesnastkowa zmiennej b:\", float(b).hex())\n",
    "print(\"Reprezentacja dziesiętna zmiennej b:\", format(b, '.20f'))\n",
    "print(\"Reprezentacja szesnastkowa zmiennej d:\", float(d).hex())\n",
    "print(\"Reprezentacja dziesiętna zmiennej d:\", format(d, '.20f'))"
   ]
  },
  {
   "cell_type": "markdown",
   "id": "57bcce2e",
   "metadata": {},
   "source": [
    "**Zadanie 5.**"
   ]
  },
  {
   "cell_type": "markdown",
   "id": "33dd498c",
   "metadata": {},
   "source": [
    "Rozważmy macierz kwadratową:\n",
    "$$ A=\\left[\\begin{array}{ccc}\n",
    "\\sqrt{2} & \\frac{1}{7}\\\\\n",
    "\\pi\\sqrt{2} &\\frac{\\pi}{7}\\\\\n",
    "\\end{array}\\right]\n",
    "$$\n",
    "* Czy jest to macierz osobliwa? Jak to sprawdzić?\n",
    "* Oblicz wyznacznik tej macierzy w sposób analityczny i numeryczny (`np.linalg.det`). Czy otrzymałeś te same wartości? Czy wyniki obliczeń numerycznych prowadzą do poprawnej odpowiedzi na pierwsze pytanie? Jakie może to mieć skutki?"
   ]
  },
  {
   "cell_type": "code",
   "execution_count": 214,
   "id": "7b46d638",
   "metadata": {},
   "outputs": [
    {
     "name": "stdout",
     "output_type": "stream",
     "text": [
      "Macierz A jest osobliwa.\n",
      "Wyznacznik macierzy obliczony analitycznie: 0.0\n",
      "Wyznacznik macierzy obliczony numerycznie: 0.0\n"
     ]
    }
   ],
   "source": [
    "import numpy as np\n",
    "\n",
    "# Definicja macierzy A\n",
    "A = np.array([[np.sqrt(2), 1/7], [np.pi * np.sqrt(2), np.pi/7]])\n",
    "\n",
    "# Obliczenia analityczne\n",
    "det_analitycznie = (np.sqrt(2) * np.pi/7) - (1/7 * np.pi * np.sqrt(2))\n",
    "\n",
    "# Obliczenia numeryczne\n",
    "det_numerycznie = np.linalg.det(A)\n",
    "\n",
    "# Sprawdzenie czy macierz jest osobliwa\n",
    "if det_numerycznie == 0:\n",
    "    print(\"Macierz A jest osobliwa.\")\n",
    "else:\n",
    "    print(\"Macierz A nie jest osobliwa.\")\n",
    "\n",
    "# Porównanie wartości wyznacznika\n",
    "print(\"Wyznacznik macierzy obliczony analitycznie:\", det_analitycznie)\n",
    "print(\"Wyznacznik macierzy obliczony numerycznie:\", det_numerycznie) "
   ]
  },
  {
   "cell_type": "markdown",
   "id": "4db8468c",
   "metadata": {},
   "source": [
    "**Zadanie 6.**"
   ]
  },
  {
   "cell_type": "markdown",
   "id": "e1f226f5",
   "metadata": {},
   "source": [
    "Jedną z metod rozwiązywania równań nieliniowych jest metoda Newtona. Metoda ta powtarza obliczenia, aż spełniony nie będzie warunek stopu. Jeżeli spełnione są odpowiednie założenia to metoda ta zbiega do rozwiązania. Załóżmy, że warunki są spełnione i rozważmy funkcję $f(x)=cos(x)-x$. Poniżej znajdziesz implementację metody Newtona, w której brakuje warunku stopu. Spróbuj go uzupełnić. Warunek powinien być spełniony w momencie, w którym chcemy zakończyć działanie procedury.\n",
    "\n",
    "Z matematycznego punktu widzenia znajdujemy się w zerze, jeżeli kolejne przybliżenia uzyskane z metody Newtona nie różnią się od siebie (np. dwa ostatnie). Zaimplementuj taki warunek i sprawdź, czy program zatrzyma się. Czy taki warunek stopu jest bezpieczny i można go stosować uniwersalnie? Jak można go poprawić?"
   ]
  },
  {
   "cell_type": "code",
   "execution_count": 215,
   "id": "26eb839f",
   "metadata": {},
   "outputs": [],
   "source": [
    "def newton(f, f_prim, x_0):\n",
    "    x_prev = x_0\n",
    "    while True:\n",
    "        x_n=x_prev-(f(x_prev)/f_prim(x_prev))\n",
    "        print(f'x_0={x_n}')\n",
    "        double_to_hex(x_n)\n",
    "        \n",
    "        if True: # Zastąp True swoim warunkiem stopu\n",
    "            return x_n\n",
    "        else:\n",
    "            x_prev=x_n"
   ]
  },
  {
   "cell_type": "code",
   "execution_count": 216,
   "id": "8c8e359e",
   "metadata": {},
   "outputs": [],
   "source": [
    "def f(x):\n",
    "    return # Uzupełnij definicję funkcji \n",
    "\n",
    "def f_prim(x):\n",
    "    return # Uzupełnij definicję pochodnej"
   ]
  },
  {
   "cell_type": "code",
   "execution_count": 217,
   "id": "03aa3df9",
   "metadata": {},
   "outputs": [],
   "source": [
    " def newton(f, f_prim, x_0, tol=1e-8, max_iter=100):\n",
    "    x_prev = x_0\n",
    "    for i in range(max_iter):\n",
    "        x_n = x_prev - (f(x_prev) / f_prim(x_prev))\n",
    "        print(f'Iteracja {i + 1}: x = {x_n}')\n",
    "        \n",
    "        # Sprawdzenie warunku stopu\n",
    "        if abs(x_n - x_prev) < tol:\n",
    "            return x_n\n",
    "        else:\n",
    "            x_prev = x_n\n",
    "    # Zwracamy ostatnie przybliżenie, jeśli nie osiągnęliśmy tolerancji po maksymalnej liczbie iteracji\n",
    "    return x_n\n",
    "\n",
    "def f(x):\n",
    "    return math.cos(x) - x\n",
    "\n",
    "def f_prim(x):\n",
    "    return -math.sin(x) - 1 "
   ]
  },
  {
   "cell_type": "markdown",
   "id": "republican-insider",
   "metadata": {},
   "source": [
    "**Zadanie domowe**  \n",
    "\n",
    "Dany jest ciąg:  \n",
    "  \n",
    "$G(p)=\\cfrac{1}{p}\\left[10^{p}\\left(1+p\\pi^{*} \\cdot 10^{-p}\\right)-10^{p}\\right],\\ p=1,2,3,\\dots,n $,\n",
    "w którym $\\pi^{*}$ jest przybliżeniem liczby $\\pi$ z dokładnością do 15 miejsc po przecinku.\n",
    "  \n",
    "Stwórz funkcję, która umożliwi obliczenie $n$ pierwszych wyrazów tego ciągu i zwróci je w postaci wektora (do przybliżenia wartości $\\pi$ możesz wykorzystać funkcję *[round](https://numpy.org/doc/stable/reference/generated/numpy.round_.html)*). Oblicz błąd bezwzględny i błąd względny otrzymanych wyników. Przedstaw rezultaty na wykresie w zależności od $n$. Wartości błędów przedstaw w skali logarytmicznej (funkcja *plt.semilogy()*).\n",
    "\n",
    "Przeanalizuj rozwiązanie i odpowiedz na następujące pytania:  \n",
    "* Czy w obliczeniach analitycznych wartość $G(p)$ zależy od $p$?\n",
    "* Jak zmienia się błąd w zależności od $n$? O czym to świadczy?\n",
    "* Z jakim/jakimi rodzajami błędu mamy do czynienie?\n"
   ]
  },
  {
   "cell_type": "code",
   "execution_count": null,
   "id": "regular-malpractice",
   "metadata": {},
   "outputs": [],
   "source": []
  }
 ],
 "metadata": {
  "kernelspec": {
   "display_name": "Python 3 (ipykernel)",
   "language": "python",
   "name": "python3"
  },
  "language_info": {
   "codemirror_mode": {
    "name": "ipython",
    "version": 3
   },
   "file_extension": ".py",
   "mimetype": "text/x-python",
   "name": "python",
   "nbconvert_exporter": "python",
   "pygments_lexer": "ipython3",
   "version": "3.11.4"
  }
 },
 "nbformat": 4,
 "nbformat_minor": 5
}

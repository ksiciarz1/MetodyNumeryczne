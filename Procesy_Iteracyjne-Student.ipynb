{
 "cells": [
  {
   "cell_type": "markdown",
   "id": "numeric-california",
   "metadata": {},
   "source": [
    "# <center> Uwarunkowanie, stabilność i rozwiązywanie równań nieliniowych<br>(poszukiwanie miejsc zerowych funkcji) </center>"
   ]
  },
  {
   "cell_type": "markdown",
   "id": "opposed-square",
   "metadata": {},
   "source": [
    "# Uwarunkowanie i stabilność"
   ]
  },
  {
   "cell_type": "markdown",
   "id": "conditional-magazine",
   "metadata": {},
   "source": [
    "\n",
    "***Zadanie 1. Czy wyznaczanie miejsc zerowych wielomianu może być zadaniem dobrze/źle uwarunkowanym? (Wielomian Wilkinsona)***\n",
    "\n",
    "W Pythonie możemy stworzyć wielomian przekazując jako parametr wektor jego współczynników (począwszy od współczynnika stojącego przy **najniższej** potędze, patrz przykład poniżej). Proszę korzystać z modułu *numpy.polynomial* (zamiast *poly1d*).\n",
    "* Wyznacz pierwiastki wielomianu $W(x) = x^2 + 3x + 2$ za pomocą metody lub funkcji *roots()*.\n",
    "* Funkcja *Polynomial.fromroots* tworzy wielomian na podstawie listy przekazanych pierwiastków. Utwórz wielomian o następujących pierwiastkach $\\{x_n = n, n = 1, 2, 3, . . . , 15\\}$.\n",
    "* Za pomocą funkcji/metody *roots* znajdź pierwiastki tego wielomianu i oceń dokładność otrzymanego wyniku.\n",
    "* Do trzynastego elementu wektora współczynników wprowadź małe zaburzenie (np. rzędu $10^−5$) i znajdź pierwiastki wielomianu o zaburzonych współczynnikach. Wykreśl pierwiastki na płaszczyznie zespolonej. \n",
    "* Czy zadanie znalezienia pierwiastków tego wielomianu jest zadaniem dobrze uwarunkowanym?\n"
   ]
  },
  {
   "cell_type": "code",
   "execution_count": null,
   "id": "2ed24b12",
   "metadata": {},
   "outputs": [],
   "source": [
    "import numpy as np\n",
    "import matplotlib.pyplot as plt"
   ]
  },
  {
   "cell_type": "code",
   "execution_count": null,
   "id": "fabulous-monte",
   "metadata": {},
   "outputs": [],
   "source": [
    "from numpy.polynomial import Polynomial\n",
    "# Przykłady operacji na wielomianach\n",
    "p = Polynomial([3, 2, 1]) # Od ostatniego współczynnika\n",
    "print(p)\n",
    "print(p.roots())\n",
    "print(Polynomial.roots(p))\n",
    "\n",
    "\n"
   ]
  },
  {
   "cell_type": "code",
   "execution_count": null,
   "id": "585dc664",
   "metadata": {},
   "outputs": [],
   "source": []
  },
  {
   "cell_type": "markdown",
   "id": "latin-barbados",
   "metadata": {},
   "source": [
    "***Zadanie 2. Całka oznaczona***\n",
    "\n",
    "Przykład z wykładu:\n",
    "Naszym celem jest znalezienie całki $I_n=\\int_0^1 x^ne^{x-1}dx$  dla $n = 20$.\n",
    "* Na podstawie np. przybliżonych wykresów funkcji podcałkowej, proszę oszacować wartość tej całki oraz relację miedzy $I_n$ a $I_{n−1}$.\n",
    "* Ciąg wartości $I_i$ można wyznaczyć za pomocą wzoru otrzymanego z całkowania przez części: $I_n = 1−nI_{n−1}, I_1 = \\frac{1}{e}$ (proszę sprawdzić jego poprawność).\n",
    "* Czy otrzymane wyniki są zgodne z przewidywaniami? Która operacja może powodować takie skutki?\n",
    "* Porównaj błąd otrzymanego ciągu iteracyjnego z ciągiem obliczanym *w przeciwnym kierunku* tj. od $I_{20}$ do $I_1$. Proszę przyjąć, że $I_{20} = 0$.\n",
    "* Jak duży jest błąd danej wejściowej ($I_{20}$) i ostatniego elementu ciągu ($I_1$)?\n",
    "* Który algorytm jest stabilny, a który niestabilny?"
   ]
  },
  {
   "cell_type": "code",
   "execution_count": null,
   "id": "cfebb4e9",
   "metadata": {},
   "outputs": [],
   "source": []
  },
  {
   "cell_type": "markdown",
   "id": "material-assets",
   "metadata": {},
   "source": [
    "# Poszukiwanie miejsc zerowych"
   ]
  },
  {
   "cell_type": "markdown",
   "id": "under-alberta",
   "metadata": {},
   "source": [
    "Dana jest funkcja $$f(x) = e^{-2x}+x^2-1$$"
   ]
  },
  {
   "cell_type": "markdown",
   "id": "beneficial-auckland",
   "metadata": {},
   "source": [
    "***Zadanie 1.***"
   ]
  },
  {
   "cell_type": "markdown",
   "id": "built-serial",
   "metadata": {},
   "source": [
    "Stwórzy wykres prezentujący funkcję $f(x)$ oraz jej pierwszą i drugą pochodną. Na podstawie spróbuj oszacować wartości pierwiastków równania $f(x) = 0$."
   ]
  },
  {
   "cell_type": "code",
   "execution_count": null,
   "id": "violent-tutorial",
   "metadata": {},
   "outputs": [],
   "source": []
  },
  {
   "cell_type": "markdown",
   "id": "essential-shepherd",
   "metadata": {},
   "source": [
    "***Zadanie 2.***\n",
    "\n",
    "Samodzielnie zaimplementuj metody:\n",
    "* bisekcji,\n",
    "* Newtona-Raphsona,\n",
    "* siecznych.\n",
    "\n",
    "Każda z funkcji powinna przyjmować następujące argumenty:\n",
    "* lewą stronę równania $g(x) = 0$ reprezentowaną poprzez funkcję (ewentualnie jego pochodną),\n",
    "* przedział lub punkt startowy\n",
    "* tolerancję,\n",
    "* maksymalną liczbę iteracji.\n",
    "\n",
    "i zwracać:\n",
    "* znaleziony pierwiastek,\n",
    "* liczbę iteracji.\n",
    "\n",
    "W jaki sposób sprawdzić warunek stopu? Czy kryterium stopu polegające na kontynuacji iteracji dopóki $x_{i+1}\\neq x_i$ jest prawidłowe (bezpieczne)?"
   ]
  },
  {
   "cell_type": "code",
   "execution_count": null,
   "id": "alert-nitrogen",
   "metadata": {},
   "outputs": [],
   "source": []
  },
  {
   "cell_type": "markdown",
   "id": "bearing-litigation",
   "metadata": {},
   "source": [
    "***Zadanie 3.***\n",
    "\n",
    "Wykorzystaj stworzone w zadaniu 2. metody do znalezienia miejsc zerowych funkcji $f(x)$ z dokładnością $\\epsilon = 10^{-6}$. Porównaj liczby iteracji niezbędnych do znalezienia pierwiastka. Która metoda sprawdziła się najlepiej? Która wypada najgorzej? Czy odpowiedni dobór przedziału może przyspieszyć proces rozwiązywania? Eksperyment przeprowadź dla wszystkich miejsc zerowych $f(x)$.\n"
   ]
  },
  {
   "cell_type": "code",
   "execution_count": null,
   "id": "separate-calculator",
   "metadata": {},
   "outputs": [],
   "source": []
  },
  {
   "cell_type": "markdown",
   "id": "defensive-haiti",
   "metadata": {},
   "source": [
    "***Zadanie 4.***\n",
    "\n",
    "Przeanalizuj zachowanie ciągów przybliżeń rozwiązań wraz ze wzrostem liczby iteracji. Przedstaw wyniki w postaci wykresu i dokonaj ich analizy."
   ]
  },
  {
   "cell_type": "code",
   "execution_count": null,
   "id": "reserved-housing",
   "metadata": {},
   "outputs": [],
   "source": []
  }
 ],
 "metadata": {
  "kernelspec": {
   "display_name": "Python 3 (ipykernel)",
   "language": "python",
   "name": "python3"
  },
  "language_info": {
   "codemirror_mode": {
    "name": "ipython",
    "version": 3
   },
   "file_extension": ".py",
   "mimetype": "text/x-python",
   "name": "python",
   "nbconvert_exporter": "python",
   "pygments_lexer": "ipython3",
   "version": "3.11.4"
  }
 },
 "nbformat": 4,
 "nbformat_minor": 5
}
